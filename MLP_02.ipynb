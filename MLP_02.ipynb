{
  "nbformat": 4,
  "nbformat_minor": 0,
  "metadata": {
    "colab": {
      "name": "MLP-02",
      "version": "0.3.2",
      "provenance": [],
      "collapsed_sections": [],
      "include_colab_link": true
    },
    "kernelspec": {
      "name": "python3",
      "display_name": "Python 3"
    }
  },
  "cells": [
    {
      "cell_type": "markdown",
      "metadata": {
        "id": "view-in-github",
        "colab_type": "text"
      },
      "source": [
        "<a href=\"https://colab.research.google.com/github/bitgn/ml-course/blob/master/MLP_02.ipynb\" target=\"_parent\"><img src=\"https://colab.research.google.com/assets/colab-badge.svg\" alt=\"Open In Colab\"/></a>"
      ]
    },
    {
      "cell_type": "markdown",
      "metadata": {
        "id": "Naa72kgsXyOA",
        "colab_type": "text"
      },
      "source": [
        "## Chapter 2. Data Science is done in Python\n",
        "\n",
        "\n",
        "Python is currently the most popular day-to-day language that Data\n",
        "Scientists use to develop their models (e.g. Jupyter Notebooks,\n",
        "pandas, numpy, matplotlib). A lot of data processing is done in this\n",
        "language as well (Apache Airflow, Dask Distributed, Apache Beam).\n",
        "\n",
        "Notebooks are an interactive way to work with Python environments. For the purpose of this course we will start with Google Collab notebooks.\n",
        "\n",
        "### Tasks\n",
        "\n",
        "- Open this notebook in Google Collab\n"
      ]
    },
    {
      "cell_type": "code",
      "metadata": {
        "id": "jpllf7h1NOlI",
        "colab_type": "code",
        "colab": {}
      },
      "source": [
        "# import required modules under short and convenient names\n",
        "import pandas as pd\n",
        "import matplotlib as mpl\n",
        "\n"
      ],
      "execution_count": 0,
      "outputs": []
    },
    {
      "cell_type": "markdown",
      "metadata": {
        "id": "FxX_FeSEPidQ",
        "colab_type": "text"
      },
      "source": [
        "# Quick Intro to Pandas\n",
        "\n",
        "Ppans\n",
        "The primary data structures in pandas are implemented as two classes:\n",
        "DataFrame, which you can imagine as a relational data table, with rows and named columns.\n",
        "Series, which is a single column. A DataFrame contains one or more Series and a name for each Series.\n",
        "The data frame is a commonly used abstraction for data manipulation"
      ]
    },
    {
      "cell_type": "code",
      "metadata": {
        "id": "pOWk_ZWgPSXE",
        "colab_type": "code",
        "colab": {}
      },
      "source": [
        "\n",
        "from io import StringIO\n",
        "\n",
        "TSV = \"\"\"\n",
        "Id\tDate\tQuantity\tCurrency\tNetAmount\n",
        "10206\t2017-08-15\t2\tUSD\t34.7999992\n",
        "10206\t2017-08-22\t36\tUSD\t626.400024\n",
        "10206\t2017-08-25\t24\tUSD\t417.600006\n",
        "10206\t2017-08-25\t24\tUSD\t417.600006\n",
        "10206\t2017-08-28\t2\tUSD\t34.7999992\n",
        "10206\t2017-08-31\t2\tUSD\t34.7999992\n",
        "10206\t2017-08-31\t4\tUSD\t69.5999985\n",
        "10206\t2017-08-31\t4\tUSD\t69.5999985\n",
        "10206\t2017-08-31\t2\tUSD\t34.7999992\n",
        "10206\t2017-08-31\t4\tUSD\t69.5999985\n",
        "10206\t2017-08-31\t2\tUSD\t34.7999992\n",
        "10206\t2017-08-31\t4\tUSD\t69.5999985\n",
        "10206\t2017-08-31\t4\tUSD\t69.5999985\n",
        "10206\t2017-08-31\t6\tUSD\t104.400002\n",
        "10206\t2017-08-31\t4\tUSD\t69.5999985\n",
        "10206\t2017-08-31\t4\tUSD\t69.5999985\n",
        "10206\t2017-08-31\t4\tUSD\t69.5999985\n",
        "10206\t2017-09-05\t2\tUSD\t34.7999992\n",
        "10206\t2017-09-11\t4\tUSD\t69.5999985\n",
        "10206\t2017-09-11\t2\tUSD\t34.7999992\n",
        "10206\t2017-09-13\t4\tUSD\t69.5999985\n",
        "10206\t2017-09-18\t6\tUSD\t104.400002\n",
        "10206\t2017-09-18\t2\tUSD\t34.7999992\n",
        "10206\t2017-09-20\t6\tUSD\t104.400002\n",
        "10206\t2017-09-22\t2\tUSD\t34.7999992\"\"\"\n",
        "\n",
        "\n",
        "df = pd.read_csv(StringIO(TSV), sep='\\t')\n",
        "df.head()"
      ],
      "execution_count": 0,
      "outputs": []
    }
  ]
}