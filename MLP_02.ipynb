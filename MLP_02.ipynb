{
  "nbformat": 4,
  "nbformat_minor": 0,
  "metadata": {
    "colab": {
      "name": "MLP-02",
      "version": "0.3.2",
      "provenance": [],
      "collapsed_sections": [],
      "include_colab_link": true
    },
    "kernelspec": {
      "name": "python3",
      "display_name": "Python 3"
    }
  },
  "cells": [
    {
      "cell_type": "markdown",
      "metadata": {
        "id": "view-in-github",
        "colab_type": "text"
      },
      "source": [
        "<a href=\"https://colab.research.google.com/github/bitgn/ml-course/blob/master/MLP_02.ipynb\" target=\"_parent\"><img src=\"https://colab.research.google.com/assets/colab-badge.svg\" alt=\"Open In Colab\"/></a>"
      ]
    },
    {
      "cell_type": "markdown",
      "metadata": {
        "id": "Naa72kgsXyOA",
        "colab_type": "text"
      },
      "source": [
        "# Chapter 2. Data Science is done in Python\n",
        "\n",
        "\n",
        "Python is currently the most popular day-to-day language that Data\n",
        "Scientists use to develop their models (e.g. Jupyter Notebooks,\n",
        "pandas, numpy, matplotlib). A lot of data processing is done in this\n",
        "language as well (Apache Airflow, Dask Distributed, Apache Beam).\n",
        "\n",
        "Notebooks are an interactive way to work with Python environments. For the purpose of this course we will start with Google Collab notebooks."
      ]
    },
    {
      "cell_type": "markdown",
      "metadata": {
        "id": "ka3Lf5KwYrKx",
        "colab_type": "text"
      },
      "source": [
        "## Getting Started\n",
        "\n",
        "The document you are reading is a  [Jupyter notebook](https://jupyter.org/), hosted in Colaboratory. It is not a static page, but an interactive environment that lets you write and execute code in Python and other languages.\n",
        "\n",
        "For example, here is a **code cell** with a short Python script that computes a value, stores it in a variable, and prints the result:"
      ]
    },
    {
      "cell_type": "code",
      "metadata": {
        "id": "vib-ILkcYwYj",
        "colab_type": "code",
        "colab": {
          "base_uri": "https://localhost:8080/",
          "height": 34
        },
        "outputId": "241cbca2-2ca2-43ac-c503-c3e360759568"
      },
      "source": [
        "bytes_in_MiB= 2 ** 20\n",
        "bytes_in_MiB"
      ],
      "execution_count": 5,
      "outputs": [
        {
          "output_type": "execute_result",
          "data": {
            "text/plain": [
              "1048576"
            ]
          },
          "metadata": {
            "tags": []
          },
          "execution_count": 5
        }
      ]
    },
    {
      "cell_type": "markdown",
      "metadata": {
        "id": "g1jI9oZWZD8_",
        "colab_type": "text"
      },
      "source": [
        "To execute the code in the above cell, select it with a click and then either press the play button to the left of the code, or use the keyboard shortcut \"Command/Ctrl+Enter\".\n",
        "\n",
        "All cells modify the same global state, so variables that you define by executing a cell can be used in other cells:"
      ]
    },
    {
      "cell_type": "code",
      "metadata": {
        "id": "hjkRQq1oZJll",
        "colab_type": "code",
        "colab": {
          "base_uri": "https://localhost:8080/",
          "height": 34
        },
        "outputId": "3e626707-507a-4bee-ec8b-0734e2e3ba3f"
      },
      "source": [
        "bytes_in_GiB = bytes_in_MiB * 1024\n",
        "bytes_in_GiB"
      ],
      "execution_count": 6,
      "outputs": [
        {
          "output_type": "execute_result",
          "data": {
            "text/plain": [
              "1073741824"
            ]
          },
          "metadata": {
            "tags": []
          },
          "execution_count": 6
        }
      ]
    },
    {
      "cell_type": "markdown",
      "metadata": {
        "id": "p9rfQjQmZT7h",
        "colab_type": "text"
      },
      "source": [
        "## Data Science in Jupyter\n",
        "\n",
        "Data scientists use Jupyter notebooks for data exploration, visualization and analysis.\n",
        "\n",
        "Let's try doing a quick analytis.\n",
        "\n",
        "First, we import necessary modules under short and convenient names. We'll be mostly using pandas and matplotlib.\n"
      ]
    },
    {
      "cell_type": "code",
      "metadata": {
        "id": "jpllf7h1NOlI",
        "colab_type": "code",
        "colab": {}
      },
      "source": [
        "import pandas as pd\n",
        "import matplotlib as mpl"
      ],
      "execution_count": 0,
      "outputs": []
    },
    {
      "cell_type": "markdown",
      "metadata": {
        "id": "FxX_FeSEPidQ",
        "colab_type": "text"
      },
      "source": [
        "# Quick Intro to Pandas\n",
        "\n",
        "Pandas is a python library for efficient data manipulation.\n",
        "\n",
        "\n",
        "The primary data structures in pandas are implemented as two classes:\n",
        "- DataFrame, which you can imagine as a relational data table, with rows and named columns.\n",
        "- Series, which is a single column. A DataFrame contains one or more Series and a name for each Series.\n",
        "\n",
        "The data frame is a commonly used abstraction for data manipulation.\n",
        "\n",
        "Let's load a TSV file into dataframe."
      ]
    },
    {
      "cell_type": "code",
      "metadata": {
        "id": "pOWk_ZWgPSXE",
        "colab_type": "code",
        "colab": {}
      },
      "source": [
        "\n",
        "from io import StringIO\n",
        "\n",
        "TSV = \"\"\"\n",
        "Id\tDate\tQuantity\tCurrency\tNetAmount\n",
        "10206\t2017-08-15\t2\tUSD\t34.7999992\n",
        "10206\t2017-08-22\t36\tUSD\t626.400024\n",
        "10206\t2017-08-25\t24\tUSD\t417.600006\n",
        "10206\t2017-08-25\t24\tUSD\t417.600006\n",
        "10206\t2017-08-28\t2\tUSD\t34.7999992\n",
        "10206\t2017-08-31\t2\tUSD\t34.7999992\n",
        "10206\t2017-08-31\t4\tUSD\t69.5999985\n",
        "10206\t2017-08-31\t4\tUSD\t69.5999985\n",
        "10206\t2017-08-31\t2\tUSD\t34.7999992\n",
        "10206\t2017-08-31\t4\tUSD\t69.5999985\n",
        "10206\t2017-08-31\t2\tUSD\t34.7999992\n",
        "10206\t2017-08-31\t4\tUSD\t69.5999985\n",
        "10206\t2017-08-31\t4\tUSD\t69.5999985\n",
        "10206\t2017-08-31\t6\tUSD\t104.400002\n",
        "10206\t2017-08-31\t4\tUSD\t69.5999985\n",
        "10206\t2017-08-31\t4\tUSD\t69.5999985\n",
        "10206\t2017-08-31\t4\tUSD\t69.5999985\n",
        "10206\t2017-09-05\t2\tUSD\t34.7999992\n",
        "10206\t2017-09-11\t4\tUSD\t69.5999985\n",
        "10206\t2017-09-11\t2\tUSD\t34.7999992\n",
        "10206\t2017-09-13\t4\tUSD\t69.5999985\n",
        "10206\t2017-09-18\t6\tUSD\t104.400002\n",
        "10206\t2017-09-18\t2\tUSD\t34.7999992\n",
        "10206\t2017-09-20\t6\tUSD\t104.400002\n",
        "10206\t2017-09-22\t2\tUSD\t34.7999992\"\"\"\n",
        "\n",
        "\n",
        "df = pd.read_csv(StringIO(TSV), sep='\\t')"
      ],
      "execution_count": 0,
      "outputs": []
    },
    {
      "cell_type": "markdown",
      "metadata": {
        "id": "ALYr5U0UaD55",
        "colab_type": "text"
      },
      "source": [
        "Once we have a data frame, we could investigate it. Let's look at the beginning."
      ]
    },
    {
      "cell_type": "code",
      "metadata": {
        "id": "hMwOxmiSaINH",
        "colab_type": "code",
        "colab": {
          "base_uri": "https://localhost:8080/",
          "height": 204
        },
        "outputId": "e005dae5-a7c2-4f32-a09f-74ea0298c34f"
      },
      "source": [
        "df.head()"
      ],
      "execution_count": 15,
      "outputs": [
        {
          "output_type": "execute_result",
          "data": {
            "text/html": [
              "<div>\n",
              "<style scoped>\n",
              "    .dataframe tbody tr th:only-of-type {\n",
              "        vertical-align: middle;\n",
              "    }\n",
              "\n",
              "    .dataframe tbody tr th {\n",
              "        vertical-align: top;\n",
              "    }\n",
              "\n",
              "    .dataframe thead th {\n",
              "        text-align: right;\n",
              "    }\n",
              "</style>\n",
              "<table border=\"1\" class=\"dataframe\">\n",
              "  <thead>\n",
              "    <tr style=\"text-align: right;\">\n",
              "      <th></th>\n",
              "      <th>Id</th>\n",
              "      <th>Date</th>\n",
              "      <th>Quantity</th>\n",
              "      <th>Currency</th>\n",
              "      <th>NetAmount</th>\n",
              "    </tr>\n",
              "  </thead>\n",
              "  <tbody>\n",
              "    <tr>\n",
              "      <th>0</th>\n",
              "      <td>10206</td>\n",
              "      <td>2017-08-15</td>\n",
              "      <td>2</td>\n",
              "      <td>USD</td>\n",
              "      <td>34.799999</td>\n",
              "    </tr>\n",
              "    <tr>\n",
              "      <th>1</th>\n",
              "      <td>10206</td>\n",
              "      <td>2017-08-22</td>\n",
              "      <td>36</td>\n",
              "      <td>USD</td>\n",
              "      <td>626.400024</td>\n",
              "    </tr>\n",
              "    <tr>\n",
              "      <th>2</th>\n",
              "      <td>10206</td>\n",
              "      <td>2017-08-25</td>\n",
              "      <td>24</td>\n",
              "      <td>USD</td>\n",
              "      <td>417.600006</td>\n",
              "    </tr>\n",
              "    <tr>\n",
              "      <th>3</th>\n",
              "      <td>10206</td>\n",
              "      <td>2017-08-25</td>\n",
              "      <td>24</td>\n",
              "      <td>USD</td>\n",
              "      <td>417.600006</td>\n",
              "    </tr>\n",
              "    <tr>\n",
              "      <th>4</th>\n",
              "      <td>10206</td>\n",
              "      <td>2017-08-28</td>\n",
              "      <td>2</td>\n",
              "      <td>USD</td>\n",
              "      <td>34.799999</td>\n",
              "    </tr>\n",
              "  </tbody>\n",
              "</table>\n",
              "</div>"
            ],
            "text/plain": [
              "      Id        Date  Quantity Currency   NetAmount\n",
              "0  10206  2017-08-15         2      USD   34.799999\n",
              "1  10206  2017-08-22        36      USD  626.400024\n",
              "2  10206  2017-08-25        24      USD  417.600006\n",
              "3  10206  2017-08-25        24      USD  417.600006\n",
              "4  10206  2017-08-28         2      USD   34.799999"
            ]
          },
          "metadata": {
            "tags": []
          },
          "execution_count": 15
        }
      ]
    },
    {
      "cell_type": "code",
      "metadata": {
        "id": "X5ndiA4caaDY",
        "colab_type": "code",
        "colab": {
          "base_uri": "https://localhost:8080/",
          "height": 421
        },
        "outputId": "0e05d9ca-a362-4302-ab6a-fd495c8fe1c0"
      },
      "source": [
        "sales_by_date = df.groupby(['Date']).sum()\n",
        "sales_by_date"
      ],
      "execution_count": 19,
      "outputs": [
        {
          "output_type": "execute_result",
          "data": {
            "text/html": [
              "<div>\n",
              "<style scoped>\n",
              "    .dataframe tbody tr th:only-of-type {\n",
              "        vertical-align: middle;\n",
              "    }\n",
              "\n",
              "    .dataframe tbody tr th {\n",
              "        vertical-align: top;\n",
              "    }\n",
              "\n",
              "    .dataframe thead th {\n",
              "        text-align: right;\n",
              "    }\n",
              "</style>\n",
              "<table border=\"1\" class=\"dataframe\">\n",
              "  <thead>\n",
              "    <tr style=\"text-align: right;\">\n",
              "      <th></th>\n",
              "      <th>Id</th>\n",
              "      <th>Quantity</th>\n",
              "      <th>NetAmount</th>\n",
              "    </tr>\n",
              "    <tr>\n",
              "      <th>Date</th>\n",
              "      <th></th>\n",
              "      <th></th>\n",
              "      <th></th>\n",
              "    </tr>\n",
              "  </thead>\n",
              "  <tbody>\n",
              "    <tr>\n",
              "      <th>2017-08-15</th>\n",
              "      <td>10206</td>\n",
              "      <td>2</td>\n",
              "      <td>34.799999</td>\n",
              "    </tr>\n",
              "    <tr>\n",
              "      <th>2017-08-22</th>\n",
              "      <td>10206</td>\n",
              "      <td>36</td>\n",
              "      <td>626.400024</td>\n",
              "    </tr>\n",
              "    <tr>\n",
              "      <th>2017-08-25</th>\n",
              "      <td>20412</td>\n",
              "      <td>48</td>\n",
              "      <td>835.200012</td>\n",
              "    </tr>\n",
              "    <tr>\n",
              "      <th>2017-08-28</th>\n",
              "      <td>10206</td>\n",
              "      <td>2</td>\n",
              "      <td>34.799999</td>\n",
              "    </tr>\n",
              "    <tr>\n",
              "      <th>2017-08-31</th>\n",
              "      <td>122472</td>\n",
              "      <td>44</td>\n",
              "      <td>765.599988</td>\n",
              "    </tr>\n",
              "    <tr>\n",
              "      <th>2017-09-05</th>\n",
              "      <td>10206</td>\n",
              "      <td>2</td>\n",
              "      <td>34.799999</td>\n",
              "    </tr>\n",
              "    <tr>\n",
              "      <th>2017-09-11</th>\n",
              "      <td>20412</td>\n",
              "      <td>6</td>\n",
              "      <td>104.399998</td>\n",
              "    </tr>\n",
              "    <tr>\n",
              "      <th>2017-09-13</th>\n",
              "      <td>10206</td>\n",
              "      <td>4</td>\n",
              "      <td>69.599998</td>\n",
              "    </tr>\n",
              "    <tr>\n",
              "      <th>2017-09-18</th>\n",
              "      <td>20412</td>\n",
              "      <td>8</td>\n",
              "      <td>139.200001</td>\n",
              "    </tr>\n",
              "    <tr>\n",
              "      <th>2017-09-20</th>\n",
              "      <td>10206</td>\n",
              "      <td>6</td>\n",
              "      <td>104.400002</td>\n",
              "    </tr>\n",
              "    <tr>\n",
              "      <th>2017-09-22</th>\n",
              "      <td>10206</td>\n",
              "      <td>2</td>\n",
              "      <td>34.799999</td>\n",
              "    </tr>\n",
              "  </tbody>\n",
              "</table>\n",
              "</div>"
            ],
            "text/plain": [
              "                Id  Quantity   NetAmount\n",
              "Date                                    \n",
              "2017-08-15   10206         2   34.799999\n",
              "2017-08-22   10206        36  626.400024\n",
              "2017-08-25   20412        48  835.200012\n",
              "2017-08-28   10206         2   34.799999\n",
              "2017-08-31  122472        44  765.599988\n",
              "2017-09-05   10206         2   34.799999\n",
              "2017-09-11   20412         6  104.399998\n",
              "2017-09-13   10206         4   69.599998\n",
              "2017-09-18   20412         8  139.200001\n",
              "2017-09-20   10206         6  104.400002\n",
              "2017-09-22   10206         2   34.799999"
            ]
          },
          "metadata": {
            "tags": []
          },
          "execution_count": 19
        }
      ]
    }
  ]
}